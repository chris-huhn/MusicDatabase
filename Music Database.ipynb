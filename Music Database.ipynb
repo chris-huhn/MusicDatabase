{
 "cells": [
  {
   "cell_type": "code",
   "execution_count": 3,
   "metadata": {},
   "outputs": [],
   "source": [
    "import audio_metadata\n",
    "import datetime as dt\n",
    "from tinytag import TinyTag\n",
    "import os\n",
    "import pandas as pd"
   ]
  },
  {
   "cell_type": "code",
   "execution_count": 232,
   "metadata": {},
   "outputs": [
    {
     "name": "stdout",
     "output_type": "stream",
     "text": [
      "\u001b[34mArt Blakey & The Jazz Messengers\u001b[m\u001b[m/ \u001b[34mMiles Davis\u001b[m\u001b[m/\r\n",
      "\u001b[34mBell X1\u001b[m\u001b[m/                          \u001b[34mOscar Peterson\u001b[m\u001b[m/\r\n",
      "\u001b[34mBonobo\u001b[m\u001b[m/                           \u001b[34mPhoenix\u001b[m\u001b[m/\r\n",
      "\u001b[34mCompilations\u001b[m\u001b[m/                     \u001b[34mRadiohead\u001b[m\u001b[m/\r\n",
      "\u001b[34mDaft Punk\u001b[m\u001b[m/                        \u001b[34mReal Estate\u001b[m\u001b[m/\r\n",
      "\u001b[34mGeorge Fitzgerald\u001b[m\u001b[m/                \u001b[34mRöyksopp\u001b[m\u001b[m/\r\n",
      "\u001b[34mHungry Kids of Hungary\u001b[m\u001b[m/           \u001b[34mThe 1975\u001b[m\u001b[m/\r\n",
      "\u001b[34mJohn Coltrane\u001b[m\u001b[m/                    \u001b[34mThe Avalanches\u001b[m\u001b[m/\r\n",
      "\u001b[34mJosé González\u001b[m\u001b[m/                    \u001b[34mThe Dodos\u001b[m\u001b[m/\r\n",
      "\u001b[34mJustin Bieber\u001b[m\u001b[m/                    \u001b[34mThe Mighty Bop\u001b[m\u001b[m/\r\n",
      "\u001b[34mLCD Soundsystem\u001b[m\u001b[m/                  \u001b[34mThe Paper Kites\u001b[m\u001b[m/\r\n",
      "\u001b[34mLapalux\u001b[m\u001b[m/                          \u001b[34mThelonious Monk\u001b[m\u001b[m/\r\n",
      "\u001b[34mLaszlo Dancehall\u001b[m\u001b[m/                 \u001b[34mToro y Moi\u001b[m\u001b[m/\r\n",
      "\u001b[34mLeon Vynehall\u001b[m\u001b[m/                    \u001b[34mUnknown Artist\u001b[m\u001b[m/\r\n",
      "\u001b[34mLocal Natives\u001b[m\u001b[m/                    \u001b[34mWashed Out\u001b[m\u001b[m/\r\n",
      "\u001b[34mMcCoy Tyner\u001b[m\u001b[m/\r\n"
     ]
    }
   ],
   "source": [
    "# examine items in Music directory\n",
    "ls '/path/Music/iTunes/iTunes Media/Music'"
   ]
  },
  {
   "cell_type": "code",
   "execution_count": 16,
   "metadata": {},
   "outputs": [],
   "source": [
    "# path to directory\n",
    "path = '/path/Music/iTunes/iTunes Media/Music/'"
   ]
  },
  {
   "cell_type": "code",
   "execution_count": 17,
   "metadata": {},
   "outputs": [],
   "source": [
    "# initialize dataframe\n",
    "df_music = pd.DataFrame()"
   ]
  },
  {
   "cell_type": "code",
   "execution_count": 18,
   "metadata": {},
   "outputs": [],
   "source": [
    "# define metadata categories to become table columns\n",
    "artists = []\n",
    "albums = []\n",
    "songs = []\n",
    "duration = []\n",
    "year_released = []\n",
    "genre = []\n",
    "file_size = []\n",
    "bitrate = []\n",
    "\n",
    "# define file extentions\n",
    "extentions = ('.m4a', '.mp3')\n",
    "\n",
    "# iterate through all folders in Music (this represents artists in the local music library)\n",
    "for i in os.listdir(path):\n",
    "    \n",
    "    # iterate through all folders in artists (this represents albums in the local music library)\n",
    "    for j in os.listdir(f'{path}{i}'):\n",
    "        \n",
    "        # if j is a directory\n",
    "        if os.path.isdir(f'{path}{i}/{j}'):\n",
    "            \n",
    "            # iterate through songs in albums\n",
    "            for k in os.listdir(f'{path}{i}/{j}'):\n",
    "                \n",
    "                # if the song is a .m4a or .mp3 file,\n",
    "                if k.endswith(extentions):\n",
    "                    \n",
    "                    # get metadata of each file in the directory and assign to song\n",
    "                    song = TinyTag.get(f'{path}{i}/{j}/{k}')\n",
    "                    \n",
    "                    # get song titles\n",
    "                    songs += [song.title]\n",
    "                    # get duration\n",
    "                        # convert TinyTag duration tag from float to int with round\n",
    "                        # convert each int to string formatted time with dt.datetime.utcfromtimestamp\n",
    "                    duration += [dt.datetime.strftime(dt.datetime.utcfromtimestamp(round(song.duration)), \"%M:%S\")]\n",
    "                    # get artists  \n",
    "                    artists += [song.artist]\n",
    "                    # get albums\n",
    "                    albums += [song.album]\n",
    "                    # get year released (firts four characters of string)\n",
    "                    year_released += [str(song.year)[:4]]\n",
    "                    # get genre\n",
    "                    genre += [song.genre]\n",
    "                    # get file size\n",
    "                    file_size += [str(round(song.filesize/1000000, 2)) + \" MB\"]\n",
    "                    # get bitrate\n",
    "                    bitrate += [str(round(song.bitrate)) + ' kbps']"
   ]
  },
  {
   "cell_type": "code",
   "execution_count": 19,
   "metadata": {},
   "outputs": [],
   "source": [
    "# add lists to dataframe\n",
    "df_music['Song'] = songs\n",
    "df_music['Duration'] = duration\n",
    "df_music['Artist'] = artists\n",
    "df_music['Album'] = albums\n",
    "df_music['YearReleased'] = year_released\n",
    "df_music['Genre'] = genre\n",
    "df_music['FileSize'] = file_size\n",
    "df_music['Bitrate'] = bitrate"
   ]
  },
  {
   "cell_type": "code",
   "execution_count": 20,
   "metadata": {},
   "outputs": [
    {
     "data": {
      "text/html": [
       "<div>\n",
       "<style scoped>\n",
       "    .dataframe tbody tr th:only-of-type {\n",
       "        vertical-align: middle;\n",
       "    }\n",
       "\n",
       "    .dataframe tbody tr th {\n",
       "        vertical-align: top;\n",
       "    }\n",
       "\n",
       "    .dataframe thead th {\n",
       "        text-align: right;\n",
       "    }\n",
       "</style>\n",
       "<table border=\"1\" class=\"dataframe\">\n",
       "  <thead>\n",
       "    <tr style=\"text-align: right;\">\n",
       "      <th></th>\n",
       "      <th>Song</th>\n",
       "      <th>Duration</th>\n",
       "      <th>Artist</th>\n",
       "      <th>Album</th>\n",
       "      <th>YearReleased</th>\n",
       "      <th>Genre</th>\n",
       "      <th>FileSize</th>\n",
       "      <th>Bitrate</th>\n",
       "    </tr>\n",
       "  </thead>\n",
       "  <tbody>\n",
       "    <tr>\n",
       "      <th>0</th>\n",
       "      <td>What Do You Mean?</td>\n",
       "      <td>03:26</td>\n",
       "      <td>Justin Bieber</td>\n",
       "      <td>Purpose</td>\n",
       "      <td>2015</td>\n",
       "      <td>Pop</td>\n",
       "      <td>7.26 MB</td>\n",
       "      <td>256 kbps</td>\n",
       "    </tr>\n",
       "    <tr>\n",
       "      <th>1</th>\n",
       "      <td>But Not for Me</td>\n",
       "      <td>09:42</td>\n",
       "      <td>John Coltrane</td>\n",
       "      <td>My Favorite Things</td>\n",
       "      <td>1961</td>\n",
       "      <td>Jazz</td>\n",
       "      <td>21.69 MB</td>\n",
       "      <td>256 kbps</td>\n",
       "    </tr>\n",
       "    <tr>\n",
       "      <th>2</th>\n",
       "      <td>Summertime</td>\n",
       "      <td>11:38</td>\n",
       "      <td>John Coltrane</td>\n",
       "      <td>My Favorite Things</td>\n",
       "      <td>1961</td>\n",
       "      <td>Jazz</td>\n",
       "      <td>24.73 MB</td>\n",
       "      <td>256 kbps</td>\n",
       "    </tr>\n",
       "    <tr>\n",
       "      <th>3</th>\n",
       "      <td>My Favorite Things</td>\n",
       "      <td>13:44</td>\n",
       "      <td>John Coltrane</td>\n",
       "      <td>My Favorite Things</td>\n",
       "      <td>1961</td>\n",
       "      <td>Jazz</td>\n",
       "      <td>32.07 MB</td>\n",
       "      <td>256 kbps</td>\n",
       "    </tr>\n",
       "    <tr>\n",
       "      <th>4</th>\n",
       "      <td>Everytime We Say Goodbye</td>\n",
       "      <td>05:45</td>\n",
       "      <td>John Coltrane</td>\n",
       "      <td>My Favorite Things</td>\n",
       "      <td>1961</td>\n",
       "      <td>Jazz</td>\n",
       "      <td>13.36 MB</td>\n",
       "      <td>256 kbps</td>\n",
       "    </tr>\n",
       "  </tbody>\n",
       "</table>\n",
       "</div>"
      ],
      "text/plain": [
       "                       Song Duration         Artist               Album  \\\n",
       "0         What Do You Mean?    03:26  Justin Bieber             Purpose   \n",
       "1            But Not for Me    09:42  John Coltrane  My Favorite Things   \n",
       "2                Summertime    11:38  John Coltrane  My Favorite Things   \n",
       "3        My Favorite Things    13:44  John Coltrane  My Favorite Things   \n",
       "4  Everytime We Say Goodbye    05:45  John Coltrane  My Favorite Things   \n",
       "\n",
       "  YearReleased Genre  FileSize   Bitrate  \n",
       "0         2015   Pop   7.26 MB  256 kbps  \n",
       "1         1961  Jazz  21.69 MB  256 kbps  \n",
       "2         1961  Jazz  24.73 MB  256 kbps  \n",
       "3         1961  Jazz  32.07 MB  256 kbps  \n",
       "4         1961  Jazz  13.36 MB  256 kbps  "
      ]
     },
     "execution_count": 20,
     "metadata": {},
     "output_type": "execute_result"
    }
   ],
   "source": [
    "# examine dataframe\n",
    "df_music.head()"
   ]
  },
  {
   "cell_type": "code",
   "execution_count": 4,
   "metadata": {},
   "outputs": [],
   "source": [
    "# SQL connection\n",
    "from sqlalchemy import create_engine\n",
    "import pymysql\n",
    "\n",
    "# estabish connection\n",
    "engine = create_engine('mysql+pymysql://root:!@#Mu$iqu3!?@localhost')"
   ]
  },
  {
   "cell_type": "code",
   "execution_count": 2,
   "metadata": {},
   "outputs": [],
   "source": [
    "# create music database\n",
    "engine.execute(\"CREATE DATABASE music;\")"
   ]
  },
  {
   "cell_type": "code",
   "execution_count": 30,
   "metadata": {},
   "outputs": [
    {
     "data": {
      "text/plain": [
       "<sqlalchemy.engine.result.ResultProxy at 0x7f9ed8b708d0>"
      ]
     },
     "execution_count": 30,
     "metadata": {},
     "output_type": "execute_result"
    }
   ],
   "source": [
    "# create songs table\n",
    "engine.execute('CREATE TABLE songs (\\\n",
    "    SongID INT NOT NULL AUTO_INCREMENT,\\\n",
    "    Song VARCHAR(100),\\\n",
    "    Duration TIME,\\\n",
    "    Artist VARCHAR(100),\\\n",
    "    Album VARCHAR(100),\\\n",
    "    YearReleased VARCHAR(4),\\\n",
    "    Genre VARCHAR(50),\\\n",
    "    FileSize VARCHAR(50),\\\n",
    "    Bitrate VARCHAR(50),\\\n",
    "    PRIMARY KEY(SongID)\\\n",
    "    ) AUTO_INCREMENT = 1;')"
   ]
  },
  {
   "cell_type": "code",
   "execution_count": 31,
   "metadata": {},
   "outputs": [],
   "source": [
    "# write to songs table\n",
    "df_music.to_sql('songs', con=engine, if_exists='append', index=False)"
   ]
  },
  {
   "cell_type": "code",
   "execution_count": 3,
   "metadata": {},
   "outputs": [],
   "source": [
    "# dispose connection\n",
    "engine.dispose()"
   ]
  },
  {
   "cell_type": "code",
   "execution_count": null,
   "metadata": {},
   "outputs": [],
   "source": []
  }
 ],
 "metadata": {
  "kernelspec": {
   "display_name": "Python 3",
   "language": "python",
   "name": "python3"
  },
  "language_info": {
   "codemirror_mode": {
    "name": "ipython",
    "version": 3
   },
   "file_extension": ".py",
   "mimetype": "text/x-python",
   "name": "python",
   "nbconvert_exporter": "python",
   "pygments_lexer": "ipython3",
   "version": "3.7.3"
  }
 },
 "nbformat": 4,
 "nbformat_minor": 2
}
